{
 "cells": [
  {
   "cell_type": "code",
   "execution_count": 1,
   "metadata": {},
   "outputs": [],
   "source": [
    "import seisbench.util\n",
    "from seisbench.data.base import BenchmarkDataset\n",
    "import seisbench\n",
    "import seisbench.data as sbd"
   ]
  },
  {
   "cell_type": "code",
   "execution_count": 2,
   "metadata": {},
   "outputs": [
    {
     "name": "stderr",
     "output_type": "stream",
     "text": [
      "2023-05-04 13:24:51,000 | seisbench | WARNING | Chunk \"201805\" of Dataset OBS not in cache.\n",
      "2023-05-04 13:24:51,001 | seisbench | WARNING | Trying to download preprocessed version from SeisBench repository.\n",
      "Downloading metadata: 100%|██████████| 263k/263k [00:00<00:00, 822kB/s] \n",
      "Downloading waveforms: 100%|██████████| 352M/352M [00:26<00:00, 14.0MB/s] \n",
      "2023-05-04 13:25:20,232 | seisbench | WARNING | Chunk \"201806\" of Dataset OBS not in cache.\n",
      "2023-05-04 13:25:20,232 | seisbench | WARNING | Trying to download preprocessed version from SeisBench repository.\n",
      "Downloading metadata: 100%|██████████| 658k/658k [00:00<00:00, 1.39MB/s]\n",
      "Downloading waveforms:   7%|▋         | 64.0M/881M [00:05<00:53, 15.9MB/s] "
     ]
    },
    {
     "ename": "KeyboardInterrupt",
     "evalue": "",
     "output_type": "error",
     "traceback": [
      "\u001b[0;31m---------------------------------------------------------------------------\u001b[0m",
      "\u001b[0;31mKeyboardInterrupt\u001b[0m                         Traceback (most recent call last)",
      "Cell \u001b[0;32mIn[2], line 1\u001b[0m\n\u001b[0;32m----> 1\u001b[0m data \u001b[39m=\u001b[39m sbd\u001b[39m.\u001b[39;49mOBS()\n\u001b[1;32m      2\u001b[0m \u001b[39mprint\u001b[39m(data)\n",
      "File \u001b[0;32m/opt/anaconda3/envs/ELEP/lib/python3.10/site-packages/seisbench/data/obs.py:23\u001b[0m, in \u001b[0;36mOBS.__init__\u001b[0;34m(self, component_order, **kwargs)\u001b[0m\n\u001b[1;32m     15\u001b[0m citation \u001b[39m=\u001b[39m (\n\u001b[1;32m     16\u001b[0m     \u001b[39m\"\u001b[39m\u001b[39mBornstein, T., Lange, D., Münchmeyer, J., Woollam, J., Rietbrock, A., Barcheck, G., \u001b[39m\u001b[39m\"\u001b[39m\n\u001b[1;32m     17\u001b[0m     \u001b[39m\"\u001b[39m\u001b[39mGrevemeyer, I., Tilmann, F. (2023). PickBlue: Seismic phase picking for ocean bottom \u001b[39m\u001b[39m\"\u001b[39m\n\u001b[1;32m     18\u001b[0m     \u001b[39m\"\u001b[39m\u001b[39mseismometers with deep learning. arxiv preprint. http://arxiv.org/abs/2304.06635\u001b[39m\u001b[39m\"\u001b[39m\n\u001b[1;32m     19\u001b[0m )\n\u001b[1;32m     21\u001b[0m \u001b[39mself\u001b[39m\u001b[39m.\u001b[39m_write_chunk_file()\n\u001b[0;32m---> 23\u001b[0m \u001b[39msuper\u001b[39;49m()\u001b[39m.\u001b[39;49m\u001b[39m__init__\u001b[39;49m(\n\u001b[1;32m     24\u001b[0m     citation\u001b[39m=\u001b[39;49mcitation,\n\u001b[1;32m     25\u001b[0m     repository_lookup\u001b[39m=\u001b[39;49m\u001b[39mTrue\u001b[39;49;00m,\n\u001b[1;32m     26\u001b[0m     component_order\u001b[39m=\u001b[39;49mcomponent_order,\n\u001b[1;32m     27\u001b[0m     \u001b[39m*\u001b[39;49m\u001b[39m*\u001b[39;49mkwargs,\n\u001b[1;32m     28\u001b[0m )\n",
      "File \u001b[0;32m/opt/anaconda3/envs/ELEP/lib/python3.10/site-packages/seisbench/data/base.py:2173\u001b[0m, in \u001b[0;36mBenchmarkDataset.__init__\u001b[0;34m(self, chunks, citation, license, force, wait_for_file, repository_lookup, download_kwargs, **kwargs)\u001b[0m\n\u001b[1;32m   2167\u001b[0m                 \u001b[39mself\u001b[39m\u001b[39m.\u001b[39m_download_dataset(writer, \u001b[39m*\u001b[39m\u001b[39m*\u001b[39mtmp_download_args)\n\u001b[1;32m   2169\u001b[0m     files \u001b[39m=\u001b[39m [\n\u001b[1;32m   2170\u001b[0m         \u001b[39mself\u001b[39m\u001b[39m.\u001b[39mpath \u001b[39m/\u001b[39m \u001b[39mf\u001b[39m\u001b[39m\"\u001b[39m\u001b[39mmetadata\u001b[39m\u001b[39m{\u001b[39;00mchunk\u001b[39m}\u001b[39;00m\u001b[39m.csv\u001b[39m\u001b[39m\"\u001b[39m,\n\u001b[1;32m   2171\u001b[0m         \u001b[39mself\u001b[39m\u001b[39m.\u001b[39mpath \u001b[39m/\u001b[39m \u001b[39mf\u001b[39m\u001b[39m\"\u001b[39m\u001b[39mwaveforms\u001b[39m\u001b[39m{\u001b[39;00mchunk\u001b[39m}\u001b[39;00m\u001b[39m.hdf5\u001b[39m\u001b[39m\"\u001b[39m,\n\u001b[1;32m   2172\u001b[0m     ]\n\u001b[0;32m-> 2173\u001b[0m     seisbench\u001b[39m.\u001b[39;49mutil\u001b[39m.\u001b[39;49mcallback_if_uncached(\n\u001b[1;32m   2174\u001b[0m         files, download_callback, force\u001b[39m=\u001b[39;49mforce, wait_for_file\u001b[39m=\u001b[39;49mwait_for_file\n\u001b[1;32m   2175\u001b[0m     )\n\u001b[1;32m   2177\u001b[0m \u001b[39msuper\u001b[39m()\u001b[39m.\u001b[39m\u001b[39m__init__\u001b[39m(path\u001b[39m=\u001b[39m\u001b[39mNone\u001b[39;00m, name\u001b[39m=\u001b[39m\u001b[39mself\u001b[39m\u001b[39m.\u001b[39m_name_internal(), chunks\u001b[39m=\u001b[39mchunks, \u001b[39m*\u001b[39m\u001b[39m*\u001b[39mkwargs)\n",
      "File \u001b[0;32m/opt/anaconda3/envs/ELEP/lib/python3.10/site-packages/seisbench/util/file.py:259\u001b[0m, in \u001b[0;36mcallback_if_uncached\u001b[0;34m(files, callback, force, wait_for_file, test_interval)\u001b[0m\n\u001b[1;32m    257\u001b[0m         callback(partial_files[\u001b[39m0\u001b[39m])\n\u001b[1;32m    258\u001b[0m     \u001b[39melse\u001b[39;00m:\n\u001b[0;32m--> 259\u001b[0m         callback(partial_files)\n\u001b[1;32m    260\u001b[0m \u001b[39mfinally\u001b[39;00m:\n\u001b[1;32m    261\u001b[0m     \u001b[39mfor\u001b[39;00m partial_file \u001b[39min\u001b[39;00m partial_files:\n",
      "File \u001b[0;32m/opt/anaconda3/envs/ELEP/lib/python3.10/site-packages/seisbench/data/base.py:2142\u001b[0m, in \u001b[0;36mBenchmarkDataset.__init__.<locals>.download_callback\u001b[0;34m(files)\u001b[0m\n\u001b[1;32m   2138\u001b[0m seisbench\u001b[39m.\u001b[39mlogger\u001b[39m.\u001b[39mwarning(\n\u001b[1;32m   2139\u001b[0m     \u001b[39m\"\u001b[39m\u001b[39mTrying to download preprocessed version from SeisBench repository.\u001b[39m\u001b[39m\"\u001b[39m\n\u001b[1;32m   2140\u001b[0m )\n\u001b[1;32m   2141\u001b[0m \u001b[39mtry\u001b[39;00m:\n\u001b[0;32m-> 2142\u001b[0m     \u001b[39mself\u001b[39;49m\u001b[39m.\u001b[39;49m_download_preprocessed(\u001b[39m*\u001b[39;49mfiles, chunk\u001b[39m=\u001b[39;49mchunk)\n\u001b[1;32m   2143\u001b[0m     successful_repository_download \u001b[39m=\u001b[39m \u001b[39mTrue\u001b[39;00m\n\u001b[1;32m   2144\u001b[0m \u001b[39mexcept\u001b[39;00m \u001b[39mValueError\u001b[39;00m:\n",
      "File \u001b[0;32m/opt/anaconda3/envs/ELEP/lib/python3.10/site-packages/seisbench/data/base.py:2340\u001b[0m, in \u001b[0;36mBenchmarkDataset._download_preprocessed\u001b[0;34m(self, metadata_path, waveforms_path, chunk)\u001b[0m\n\u001b[1;32m   2335\u001b[0m remote_waveforms_path \u001b[39m=\u001b[39m os\u001b[39m.\u001b[39mpath\u001b[39m.\u001b[39mjoin(remote_path, \u001b[39mf\u001b[39m\u001b[39m\"\u001b[39m\u001b[39mwaveforms\u001b[39m\u001b[39m{\u001b[39;00mchunk\u001b[39m}\u001b[39;00m\u001b[39m.hdf5\u001b[39m\u001b[39m\"\u001b[39m)\n\u001b[1;32m   2337\u001b[0m seisbench\u001b[39m.\u001b[39mutil\u001b[39m.\u001b[39mdownload_http(\n\u001b[1;32m   2338\u001b[0m     remote_metadata_path, metadata_path, desc\u001b[39m=\u001b[39m\u001b[39m\"\u001b[39m\u001b[39mDownloading metadata\u001b[39m\u001b[39m\"\u001b[39m\n\u001b[1;32m   2339\u001b[0m )\n\u001b[0;32m-> 2340\u001b[0m seisbench\u001b[39m.\u001b[39;49mutil\u001b[39m.\u001b[39;49mdownload_http(\n\u001b[1;32m   2341\u001b[0m     remote_waveforms_path, waveforms_path, desc\u001b[39m=\u001b[39;49m\u001b[39m\"\u001b[39;49m\u001b[39mDownloading waveforms\u001b[39;49m\u001b[39m\"\u001b[39;49m\n\u001b[1;32m   2342\u001b[0m )\n",
      "File \u001b[0;32m/opt/anaconda3/envs/ELEP/lib/python3.10/site-packages/seisbench/util/file.py:57\u001b[0m, in \u001b[0;36mdownload_http\u001b[0;34m(url, target, progress_bar, desc, precheck_timeout)\u001b[0m\n\u001b[1;32m     55\u001b[0m             \u001b[39mif\u001b[39;00m pbar \u001b[39mis\u001b[39;00m \u001b[39mnot\u001b[39;00m \u001b[39mNone\u001b[39;00m:\n\u001b[1;32m     56\u001b[0m                 pbar\u001b[39m.\u001b[39mupdate(\u001b[39mlen\u001b[39m(chunk))\n\u001b[0;32m---> 57\u001b[0m             f_target\u001b[39m.\u001b[39;49mwrite(chunk)\n\u001b[1;32m     59\u001b[0m \u001b[39mif\u001b[39;00m progress_bar:\n\u001b[1;32m     60\u001b[0m     pbar\u001b[39m.\u001b[39mclose()\n",
      "\u001b[0;31mKeyboardInterrupt\u001b[0m: "
     ]
    },
    {
     "name": "stderr",
     "output_type": "stream",
     "text": [
      "Downloading waveforms:   7%|▋         | 64.4M/881M [00:19<00:53, 15.9MB/s]"
     ]
    }
   ],
   "source": [
    "data = sbd.OBS()\n",
    "print(data)"
   ]
  }
 ],
 "metadata": {
  "kernelspec": {
   "display_name": "ELEP",
   "language": "python",
   "name": "python3"
  },
  "language_info": {
   "codemirror_mode": {
    "name": "ipython",
    "version": 3
   },
   "file_extension": ".py",
   "mimetype": "text/x-python",
   "name": "python",
   "nbconvert_exporter": "python",
   "pygments_lexer": "ipython3",
   "version": "3.10.10"
  },
  "orig_nbformat": 4
 },
 "nbformat": 4,
 "nbformat_minor": 2
}
