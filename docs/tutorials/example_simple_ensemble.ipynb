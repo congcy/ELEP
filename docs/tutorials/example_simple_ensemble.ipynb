{
 "cells": [
  {
   "attachments": {},
   "cell_type": "markdown",
   "metadata": {},
   "source": [
    "### Example performing two simple ensemble estimations: 1. statistics-maximum; 2. coherence-semblance "
   ]
  },
  {
   "attachments": {},
   "cell_type": "markdown",
   "metadata": {},
   "source": [
    "#### Import required modules"
   ]
  },
  {
   "cell_type": "code",
   "execution_count": null,
   "metadata": {},
   "outputs": [],
   "source": [
    "from os import listdir\n",
    "from os.path import isfile, join\n",
    "from operator import attrgetter\n",
    "from time import time\n",
    "import numpy as np\n",
    "from obspy import UTCDateTime\n",
    "from obspy.clients.fdsn import Client\n",
    "from obspy.io.sac.core import _read_sac\n",
    "from obspy.clients.fdsn.header import FDSNException\n",
    "import matplotlib.pyplot as plt\n",
    "import pandas as pd\n",
    "import sys\n",
    "import copy\n",
    "import obspy\n",
    "from obspy.core.stream import Stream\n",
    "from obspy import UTCDateTime\n",
    "from obspy import read\n",
    "import time\n",
    "\n",
    "from logging import raiseExceptions\n",
    "import seisbench.models as sbm\n",
    "import torch\n",
    "\n",
    "sys.path.append('../../ELEP/src/')\n",
    "from mbf_utils import make_LogFq, make_LinFq, rec_filter_coeff, create_obspy_trace\n",
    "from mbf import MB_filter as MBF"
   ]
  },
  {
   "attachments": {},
   "cell_type": "markdown",
   "metadata": {},
   "source": [
    "#### load data from base predictions"
   ]
  },
  {
   "attachments": {},
   "cell_type": "markdown",
   "metadata": {},
   "source": [
    "# dir to load data\n",
    "dirpath_csv = #os.path.join(dirpath, 'data', 'csv')\n",
    "dirpath_h5 = #os.path.join(dirpath, 'data', 'h5')\n"
   ]
  },
  {
   "attachments": {},
   "cell_type": "markdown",
   "metadata": {},
   "source": [
    "#### perform ensemble-maximum and coherence-semblance estimations"
   ]
  },
  {
   "cell_type": "code",
   "execution_count": null,
   "metadata": {},
   "outputs": [],
   "source": []
  }
 ],
 "metadata": {
  "language_info": {
   "name": "python"
  },
  "orig_nbformat": 4
 },
 "nbformat": 4,
 "nbformat_minor": 2
}
