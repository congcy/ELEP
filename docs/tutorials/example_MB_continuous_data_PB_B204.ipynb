{
 "cells": [
  {
   "cell_type": "markdown",
   "id": "b35c53df",
   "metadata": {},
   "source": [
    "# Ensemble phase picking (continuous waveform, multi-frequency band)\n",
    "- Yiyu Ni (niyiyu@uw.edu)\n",
    "- Last updated: May 1, 2023"
   ]
  },
  {
   "cell_type": "markdown",
   "id": "c24c975e",
   "metadata": {},
   "source": [
    "## 0 import necessary packages\n",
    "⚠️ You must restart the run time on Google Colab (for obspy to run)"
   ]
  },
  {
   "cell_type": "code",
   "execution_count": null,
   "id": "1b91c898",
   "metadata": {},
   "outputs": [],
   "source": [
    "!pip3 install seisbench\n",
    "!pip3 install elep==0.0.2\n",
    "!pip3 install tqdm"
   ]
  },
  {
   "cell_type": "code",
   "execution_count": null,
   "id": "dd281853",
   "metadata": {},
   "outputs": [],
   "source": [
    "import gc\n",
    "import obspy\n",
    "import torch\n",
    "import pandas as pd\n",
    "import numpy as np\n",
    "import matplotlib.pyplot as plt\n",
    "\n",
    "import os\n",
    "os.environ['CUDA_VISIBLE_DEVICES'] = '0'\n",
    "\n",
    "from ELEP.elep.ensemble_coherence import ensemble_semblance\n",
    "from ELEP.elep.ensemble_statistics import ensemble_statistics\n",
    "from ELEP.elep.trigger_func import picks_summary_simple\n",
    "from ELEP.elep.ensemble_learners import ensemble_regressor_cnn\n",
    "from ELEP.elep.mbf_utils import make_LogFq, rec_filter_coeff\n",
    "from ELEP.elep.mbf import MB_filter\n",
    "\n",
    "import seisbench.models as sbm\n",
    "from tqdm import tqdm\n",
    "from obspy.core.utcdatetime import UTCDateTime\n",
    "\n",
    "pd.set_option('display.max_columns', None)"
   ]
  },
  {
   "cell_type": "code",
   "execution_count": null,
   "id": "c2d42ca2",
   "metadata": {},
   "outputs": [],
   "source": [
    "# cpu, or cuda\n",
    "device = torch.device(\"cpu\")"
   ]
  },
  {
   "cell_type": "markdown",
   "id": "11949a77",
   "metadata": {},
   "source": [
    "### Load data\n",
    "We read mSEED from [PB.B204](https://ds.iris.edu/gmap/#network=PB&station=B204&planet=earth) station, Jan 6, 2023. The stream contains 4-hour 3-component waveform from EH channel (short period high-gain).\n",
    "\n",
    "We read the number of data points in each trace, delta (reciprocal of sampling rate), and start time of the trace."
   ]
  },
  {
   "cell_type": "code",
   "execution_count": null,
   "id": "7105bff1",
   "metadata": {},
   "outputs": [],
   "source": [
    "# from obspy.clients.fdsn.client import Client\n",
    "\n",
    "# client = Client(\"IRIS\")"
   ]
  },
  {
   "cell_type": "code",
   "execution_count": null,
   "id": "e37d1c54",
   "metadata": {},
   "outputs": [],
   "source": [
    "starttime = UTCDateTime(\"2022-02-06T00:00:00.000000\")\n",
    "endtime   = UTCDateTime(\"2022-02-06T03:59:59.999000\")\n",
    "# s = client.get_waveforms(\"PB\", \"B204\", location = \"*\", channel = \"EH?\", \n",
    "#                          starttime = starttime, endtime = endtime)\n",
    "\n",
    "s = obspy.read(\"https://github.com/congcy/ELEP/raw/main/docs/tutorials/data/PB.B204..EH.ms\")\n",
    "print(s)\n",
    "npts = s[0].stats.npts\n",
    "delta = s[0].stats.delta\n",
    "starttime = s[0].stats.starttime\n",
    "\n",
    "fig =plt.figure(figsize = (10, 4))\n",
    "s.plot(fig = fig);"
   ]
  },
  {
   "cell_type": "markdown",
   "id": "1bf5850b",
   "metadata": {},
   "source": [
    "### Baseline using original pretrianed model"
   ]
  },
  {
   "cell_type": "code",
   "execution_count": null,
   "id": "85f11152",
   "metadata": {},
   "outputs": [],
   "source": [
    "# cut continuous data into one-minute time window (6000 sample for EqTransformer)\n",
    "# 3000 (50%, 30 seconds) sample overlap \n",
    "# mute 500 samples of prediction on both end of time window\n",
    "\n",
    "twin = 6000\n",
    "step = 3000\n",
    "l_blnd, r_blnd = 500, 500\n",
    "nseg = int(np.ceil((npts - twin) / step)) + 1"
   ]
  },
  {
   "cell_type": "code",
   "execution_count": null,
   "id": "aa4cb09f",
   "metadata": {},
   "outputs": [],
   "source": [
    "eqt = sbm.EQTransformer.from_pretrained('original')\n",
    "eqt.to(device);\n",
    "eqt._annotate_args['overlap'] = ('Overlap between prediction windows in samples (only for window prediction models)',\n",
    " step)\n",
    "eqt._annotate_args['blinding'] = ('Number of prediction samples to discard on each side of each window prediction',\n",
    " (l_blnd, r_blnd))\n",
    "eqt.eval();\n",
    "print(len([print(i) for i in eqt.classify(s)[0]]))"
   ]
  },
  {
   "cell_type": "markdown",
   "id": "a65da59d",
   "metadata": {},
   "source": [
    "## multiband filter"
   ]
  },
  {
   "cell_type": "code",
   "execution_count": null,
   "id": "9613f210",
   "metadata": {},
   "outputs": [],
   "source": [
    "fqmin = 1\n",
    "fqmax = 45\n",
    "dt = 0.01; fs = 100;\n",
    "nfqs = 10\n",
    "nt = 6000; nc = 3;\n",
    "fq_list = make_LogFq(fqmin, fqmax, dt, nfqs)\n",
    "coeff_HP, coeff_LP = rec_filter_coeff(fq_list, dt)\n",
    "MBF_paras = {'f_min':fqmin, 'f_max':fqmax, 'nfqs':nfqs, 'frequencies':fq_list, 'CN_HP':coeff_HP, 'CN_LP':coeff_LP, \\\n",
    "    'dt':dt, 'fs':fs, 'nt':nt, 'nc':nc, 'npoles': 2}"
   ]
  },
  {
   "cell_type": "markdown",
   "id": "1ac042a3",
   "metadata": {},
   "source": [
    "## cut and predict on time windows\n",
    "We cut the continuous data into small time windows with overlap. Then, we pre-process the stream and the windowed waveform: switch channel order, demean, normalization, and taper.\n",
    "\n",
    "Note that `original` pretrain model use std normalization, while others use maximum normalization. Thus, we create two different windowed data: `windows_std` and `windows_max`."
   ]
  },
  {
   "cell_type": "code",
   "execution_count": null,
   "id": "bfdc2751",
   "metadata": {},
   "outputs": [],
   "source": [
    "s.detrend()\n",
    "s2 = eqt.annotate_stream_pre(s.copy(), argdict=eqt._annotate_args)\n",
    "sdata = np.array(s2)[[2,0,1], :] #12Z\n",
    "# sdata: Z12\n",
    "\n",
    "windows_std = np.zeros(shape=(nseg, nfqs, 3, twin), dtype= np.float32)\n",
    "windows_max = np.zeros(shape=(nseg, nfqs, 3, twin), dtype= np.float32)\n",
    "_windows = np.zeros(shape=(nseg, 3, twin), dtype= np.float32)\n",
    "_windows_mb = np.zeros(shape=(nseg, 3, nfqs, twin), dtype= np.float32)\n",
    "windows_idx = np.zeros(nseg, dtype=np.int32)\n",
    "tap = 0.5 * (1 + np.cos(np.linspace(np.pi, 2 * np.pi, 6)))\n",
    "\n",
    "for iseg in range(nseg):\n",
    "    idx = iseg * step\n",
    "    _windows[iseg, :] = sdata[:, idx:idx + twin]\n",
    "    _windows[iseg, :] -= np.mean(_windows[iseg, :], axis=-1, keepdims=True)\n",
    "_windows[:, :, :6] *= tap;\n",
    "_windows[:, :, -6:] *= tap[::-1];"
   ]
  },
  {
   "cell_type": "code",
   "execution_count": null,
   "id": "20cf01ac",
   "metadata": {
    "scrolled": true
   },
   "outputs": [],
   "source": [
    "for iseg in tqdm(range(nseg)):\n",
    "    for icha in range(3):\n",
    "        _windows_mb[iseg, icha, :, :] = MB_filter(_windows[iseg, icha], MBF_paras)\n",
    "_windows_mb = _windows_mb.swapaxes(1, 2)"
   ]
  },
  {
   "cell_type": "code",
   "execution_count": null,
   "id": "780b1778",
   "metadata": {},
   "outputs": [],
   "source": [
    "for iseg in tqdm(range(nseg)):\n",
    "    for ifre in range(nfqs):\n",
    "        # original use std norm\n",
    "        windows_std[iseg, ifre, :] = _windows_mb[iseg, ifre, :] / np.std(_windows_mb[iseg, ifre, :]) + 1e-10\n",
    "        # others use max norm\n",
    "        windows_max[iseg, ifre, :] = _windows_mb[iseg, ifre, :] / np.max(np.abs(_windows_mb[iseg, ifre, :]), axis=-1, keepdims=True) + 1e-10\n",
    "        windows_idx[iseg] = idx\n",
    "\n",
    "windows_std[:, :, :, :6] *= tap; windows_std[:, :, :, -6:] *= tap[::-1]; \n",
    "windows_max[:, :, :, :6] *= tap; windows_max[:, :, :, -6:] *= tap[::-1];\n",
    "# del _windows"
   ]
  },
  {
   "cell_type": "markdown",
   "id": "c63cd4bd",
   "metadata": {},
   "source": [
    "Then we use EqTransformer model to perform prediction on each of the time window. We use six different pre-trained model, listed in `pretrain_list`. We loop over these pretrain weights, and save the results in `batch_pred` variable of shape [2, 6, 479, 6000]. Understanding the shape of this varibale is important:\n",
    "- 2: one for P-wave and another for S-wave. We don't save detection branch.\n",
    "- 6: six pretrained weights\n",
    "- 479: the number of windows\n",
    "- 6000: the length of each time window"
   ]
  },
  {
   "cell_type": "code",
   "execution_count": null,
   "id": "415ea8b8",
   "metadata": {},
   "outputs": [],
   "source": [
    "pretrain_list = ['original', 'ethz', 'instance', 'scedc', 'stead', 'neic']\n",
    "\n",
    "# dim 0: 0 = P, 1 = S\n",
    "batch_pred = np.zeros([2, len(pretrain_list), nseg, twin], dtype = np.float32) \n",
    "model_pred = np.zeros([2, nfqs, nseg, twin], dtype = np.float32)\n",
    "\n",
    "for ipre, pretrain in enumerate(pretrain_list):\n",
    "    print(pretrain)\n",
    "    eqt = sbm.EQTransformer.from_pretrained(pretrain)\n",
    "    eqt.to(device);\n",
    "    eqt._annotate_args['overlap'] = ('Overlap between prediction windows in samples \\\n",
    "                                    (only for window prediction models)', step)\n",
    "    eqt._annotate_args['blinding'] = ('Number of prediction samples to discard on \\\n",
    "                                     each side of each window prediction', (l_blnd, r_blnd))\n",
    "    eqt.eval();\n",
    "    \n",
    "    for ifre in range(nfqs):\n",
    "        if pretrain == 'original':\n",
    "            # batch prediction through torch model\n",
    "            windows_std_tt = torch.Tensor(windows_std[:, ifre, :, :])\n",
    "            _torch_pred = eqt(windows_std_tt.to(device))\n",
    "        else:\n",
    "            windows_max_tt = torch.Tensor(windows_max[:, ifre, :, :])\n",
    "            _torch_pred = eqt(windows_max_tt.to(device))\n",
    "\n",
    "        model_pred[0, ifre, :, :] = _torch_pred[1].detach().cpu().numpy()\n",
    "        model_pred[1, ifre, :, :] = _torch_pred[2].detach().cpu().numpy()\n",
    "\n",
    "    # clean up memory\n",
    "    del _torch_pred\n",
    "    gc.collect()\n",
    "    torch.cuda.empty_cache()\n",
    "\n",
    "    for iseg in tqdm(range(nseg)):\n",
    "        for icha in range(2):\n",
    "            ifre_max = np.argwhere(model_pred[icha, :, iseg, :] == np.amax(model_pred[icha, :, iseg, :]))[0][0]\n",
    "            batch_pred[icha, ipre, :, :] = model_pred[icha, ifre_max, :, :]\n",
    "            \n",
    "del windows_std_tt, windows_max_tt\n",
    "gc.collect()\n",
    "torch.cuda.empty_cache()"
   ]
  },
  {
   "cell_type": "markdown",
   "id": "f625628d",
   "metadata": {},
   "source": [
    "## stacking\n",
    "This section we merge all time windows into the continuous prediction. We use the `stacking` function: it takes matrix of shape [nseg, ntrace] and merge it into an 1D array."
   ]
  },
  {
   "cell_type": "code",
   "execution_count": null,
   "id": "2835cb80",
   "metadata": {},
   "outputs": [],
   "source": [
    "def stacking(data, npts, l_blnd, r_blnd):\n",
    "    _data = data.copy()\n",
    "    stack = np.full(npts, np.nan, dtype = np.float32)\n",
    "    _data[:, :l_blnd] = np.nan; _data[:, -r_blnd:] = np.nan\n",
    "    stack[:twin] = _data[0, :]\n",
    "    for iseg in range(nseg-1):\n",
    "        idx = step*(iseg+1)\n",
    "        stack[idx:idx + twin] = \\\n",
    "                np.nanmax([stack[idx:idx + twin], _data[iseg+1, :]], axis = 0)\n",
    "    return stack"
   ]
  },
  {
   "cell_type": "markdown",
   "id": "df7e5e4c",
   "metadata": {},
   "source": [
    "We first merge results from each of the pretrained model, respectively."
   ]
  },
  {
   "cell_type": "code",
   "execution_count": null,
   "id": "a086e3c5",
   "metadata": {
    "scrolled": true
   },
   "outputs": [],
   "source": [
    "pretrain_pred = np.zeros([2, len(pretrain_list), npts], dtype = np.float32)\n",
    "for ipre, pretrain in enumerate(pretrain_list):\n",
    "    pretrain_pred[0, ipre, :] = stacking(batch_pred[0, ipre, :], npts, l_blnd, r_blnd)\n",
    "    pretrain_pred[1, ipre, :] = stacking(batch_pred[1, ipre, :], npts, l_blnd, r_blnd)"
   ]
  },
  {
   "cell_type": "code",
   "execution_count": null,
   "id": "ea63a07d",
   "metadata": {},
   "outputs": [],
   "source": [
    "plt.figure(figsize = (10, 3))\n",
    "for ipre, pretrain in enumerate(pretrain_list):\n",
    "    plt.plot(pretrain_pred[0, ipre, :], label = pretrain)\n",
    "plt.ylabel(\"Prediction\", fontsize = 15); plt.ylim([0, 1]); plt.xlim([0, npts]);\n",
    "plt.legend(ncols = 2, loc = 'upper right')"
   ]
  },
  {
   "cell_type": "markdown",
   "id": "e63d77b6",
   "metadata": {},
   "source": [
    "## ensemble on time windows\n",
    "We then apply the ensemble measurement on each of the time window, and then merge them."
   ]
  },
  {
   "cell_type": "code",
   "execution_count": null,
   "id": "1406071a",
   "metadata": {},
   "outputs": [],
   "source": [
    "paras_simple = {'dt':0.01, 'win':1, 'window_flag':False, 'method':'max'}\n",
    "paras_semblance = {'dt':0.01, 'semblance_order':2, 'window_flag':True, \n",
    "                   'semblance_win':0.5, 'weight_flag':'max'}\n",
    "\n",
    "max_pred = np.zeros([2, nseg, twin], dtype = np.float32)\n",
    "smb_pred = np.zeros([2, nseg, twin], dtype = np.float32)"
   ]
  },
  {
   "cell_type": "code",
   "execution_count": null,
   "id": "01597666",
   "metadata": {},
   "outputs": [],
   "source": [
    "for iseg in tqdm(range(nseg)):\n",
    "    max_pred[0, iseg, :] = ensemble_statistics(batch_pred[0, :, iseg, :], paras_simple)\n",
    "    smb_pred[0, iseg, :] = ensemble_semblance(batch_pred[0, :, iseg, :], paras_semblance)\n",
    "    \n",
    "    max_pred[1, iseg, :] = ensemble_statistics(batch_pred[1, :, iseg, :], paras_simple)\n",
    "    smb_pred[1, iseg, :] = ensemble_semblance(batch_pred[1, :, iseg, :], paras_semblance)"
   ]
  },
  {
   "cell_type": "code",
   "execution_count": null,
   "id": "b46be624",
   "metadata": {},
   "outputs": [],
   "source": [
    "max_p = stacking(max_pred[0, :], npts, l_blnd, r_blnd)\n",
    "smb_p = stacking(smb_pred[0, :], npts, l_blnd, r_blnd)\n",
    "\n",
    "max_s = stacking(max_pred[1, :], npts, l_blnd, r_blnd)\n",
    "smb_s = stacking(smb_pred[1, :], npts, l_blnd, r_blnd)\n",
    "# del max_pred, smb_pred, batch_pred"
   ]
  },
  {
   "cell_type": "code",
   "execution_count": null,
   "id": "72a51cde",
   "metadata": {},
   "outputs": [],
   "source": [
    "plt.figure(figsize = (10, 8))\n",
    "plt.subplot(3, 1, 1)\n",
    "plt.title(\"P-wave\")\n",
    "for ipre, pretrain in enumerate(pretrain_list):\n",
    "    plt.plot(pretrain_pred[0, ipre, :], label = pretrain)\n",
    "plt.ylabel(\"Prediction\", fontsize = 15); \n",
    "plt.ylim([0, 1]); plt.xlim([0, npts]);\n",
    "plt.hlines(0.05, 0, npts, linestyle = '--', color = 'k')\n",
    "plt.legend(ncols = 2, loc = 'upper right')\n",
    "\n",
    "plt.subplot(3, 1, 2)\n",
    "plt.plot(max_p, label = \"Ensemble Maximum\")\n",
    "plt.ylabel(\"Prediction\", fontsize = 15); \n",
    "plt.ylim([0, 1]); plt.xlim([0, npts]);\n",
    "plt.hlines(0.05, 0, npts, linestyle = '--', color = 'k')\n",
    "plt.legend(loc = 'upper right')\n",
    "\n",
    "plt.subplot(3, 1, 3)\n",
    "plt.plot(smb_p, label = \"Ensemble Semblance\")\n",
    "plt.xlabel(\"Time\", fontsize = 15); plt.ylabel(\"Prediction\", fontsize = 15); \n",
    "plt.ylim([0, .055]); plt.xlim([0, npts]); \n",
    "plt.hlines(0.05, 0, npts, linestyle = '--', color = 'k')\n",
    "plt.legend(loc = 'upper right')"
   ]
  },
  {
   "cell_type": "code",
   "execution_count": null,
   "id": "00fbd290",
   "metadata": {},
   "outputs": [],
   "source": [
    "plt.figure(figsize = (10, 8))\n",
    "plt.subplot(3, 1, 1)\n",
    "plt.title(\"S-wave\")\n",
    "for ipre, pretrain in enumerate(pretrain_list):\n",
    "    plt.plot(pretrain_pred[1, ipre, :], label = pretrain)\n",
    "plt.ylabel(\"Prediction\", fontsize = 15); \n",
    "plt.ylim([0, 1]); plt.xlim([0, npts]);\n",
    "plt.legend(ncols = 2, loc = 'upper right')\n",
    "\n",
    "plt.subplot(3, 1, 2)\n",
    "plt.plot(max_s, label = \"Ensemble Maximum\")\n",
    "plt.ylabel(\"Prediction\", fontsize = 15); \n",
    "plt.ylim([0, 1]); plt.xlim([0, npts]);\n",
    "plt.legend(loc = 'upper right')\n",
    "\n",
    "plt.subplot(3, 1, 3)\n",
    "plt.plot(smb_s, label = \"Ensemble Semblance\")\n",
    "plt.xlabel(\"Time\", fontsize = 15); plt.ylabel(\"Prediction\", fontsize = 15); \n",
    "plt.ylim([0, .055]); plt.xlim([0, npts]);\n",
    "plt.hlines(0.05, 0, npts, linestyle = '--', color = 'k')\n",
    "plt.legend(loc = 'upper right')"
   ]
  },
  {
   "cell_type": "markdown",
   "id": "148c6477",
   "metadata": {},
   "source": [
    "## trigger and picking"
   ]
  },
  {
   "cell_type": "code",
   "execution_count": null,
   "id": "f4cbbf4a",
   "metadata": {},
   "outputs": [],
   "source": [
    "## all picks for this station and this day by PNSN\n",
    "pnsn = pd.read_csv(\"./data/PB.B204.2022.037.csv\")\n",
    "pnsn = pnsn[pnsn['phase'] == 'P']"
   ]
  },
  {
   "cell_type": "code",
   "execution_count": null,
   "id": "c1bbd572",
   "metadata": {},
   "outputs": [],
   "source": [
    "pnsn"
   ]
  },
  {
   "cell_type": "code",
   "execution_count": null,
   "id": "392351a9",
   "metadata": {
    "scrolled": false
   },
   "outputs": [],
   "source": [
    "## gray waveform: there is a pick by PNSN within 1 second\n",
    "## black waveform: probably a new event detected\n",
    "\n",
    "p_index = picks_summary_simple(smb_p, 0.05)\n",
    "for idx in p_index:\n",
    "    arrival_utc = starttime + idx * delta\n",
    "    plt.figure(figsize = (10, 2))\n",
    "    w = sdata[:, idx-2000:idx+4000]\n",
    "    if (abs(arrival_utc.timestamp - pnsn['timestamp']) < 1).any():\n",
    "        \n",
    "        plt.plot(w.T, color = 'gray', alpha = 0.5)\n",
    "    else:\n",
    "        plt.plot(w.T, color = 'black', alpha = 0.5)\n",
    "    plt.vlines(2000, w.min(), w.max(), linestyle = '--', color = 'r', label = 'P pick')\n",
    "    plt.title(f\"Arrival time: {arrival_utc}\")\n",
    "    plt.yticks([]); plt.legend(loc = 'upper right')\n",
    "    plt.xlim([0, 6000])"
   ]
  },
  {
   "cell_type": "markdown",
   "id": "af6cb9b7",
   "metadata": {},
   "source": [
    "## meta picker"
   ]
  },
  {
   "cell_type": "code",
   "execution_count": null,
   "id": "3a6ab5cd",
   "metadata": {},
   "outputs": [],
   "source": [
    "!wget https://github.com/congcy/ELEP/raw/main/ELEP/models/multiband_P_state.pt\n",
    "!wget https://github.com/congcy/ELEP/raw/main/ELEP/models/multiband_S_state.pt"
   ]
  },
  {
   "cell_type": "code",
   "execution_count": null,
   "id": "8ac809a5",
   "metadata": {},
   "outputs": [],
   "source": [
    "# load pre-trained meta picker\n",
    "meta_p_picker = ensemble_regressor_cnn()\n",
    "meta_s_picker = ensemble_regressor_cnn()\n",
    "\n",
    "meta_p_picker.load_state_dict(torch.load(\"./multiband_P_state.pt\")); meta_p_picker.eval();\n",
    "meta_s_picker.load_state_dict(torch.load(\"./multiband_S_state.pt\")); meta_s_picker.eval();\n",
    "\n",
    "# show the model structure\n",
    "meta_p_picker"
   ]
  },
  {
   "cell_type": "markdown",
   "id": "4d3d9032",
   "metadata": {},
   "source": [
    "# EOF"
   ]
  }
 ],
 "metadata": {
  "kernelspec": {
   "display_name": "seisbench",
   "language": "python",
   "name": "seisbench"
  },
  "language_info": {
   "codemirror_mode": {
    "name": "ipython",
    "version": 3
   },
   "file_extension": ".py",
   "mimetype": "text/x-python",
   "name": "python",
   "nbconvert_exporter": "python",
   "pygments_lexer": "ipython3",
   "version": "3.9.16"
  }
 },
 "nbformat": 4,
 "nbformat_minor": 5
}
