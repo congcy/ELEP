{
 "cells": [
  {
   "attachments": {},
   "cell_type": "markdown",
   "metadata": {},
   "source": [
    "### Demo of training meta learner with example predictions\n",
    "Written by Congcong Yuan, 2023-02\n",
    "\n",
    "Outline of this tutorial:\n",
    "\n",
    "0. Install packages\n",
    "1. Import packages and functions\n",
    "2. Load data and prepare training data\n",
    "3. Train meta learner"
   ]
  },
  {
   "attachments": {},
   "cell_type": "markdown",
   "metadata": {},
   "source": [
    "#### 0. Install packages"
   ]
  },
  {
   "cell_type": "code",
   "execution_count": null,
   "metadata": {},
   "outputs": [],
   "source": [
    "# install the required packages by pip3 on virtual machine\n",
    "!pip3 install seisbench\n",
    "!pip3 install ELEP==0.0.2 "
   ]
  },
  {
   "attachments": {},
   "cell_type": "markdown",
   "metadata": {},
   "source": [
    "#### 1. import packages and functions"
   ]
  },
  {
   "cell_type": "code",
   "execution_count": 6,
   "metadata": {},
   "outputs": [
    {
     "name": "stdout",
     "output_type": "stream",
     "text": [
      "False\n"
     ]
    }
   ],
   "source": [
    "import torch\n",
    "import torch.nn as nn\n",
    "\n",
    "from torch.autograd import Variable\n",
    "print(torch.cuda.is_available())\n",
    "\n",
    "import numpy as np\n",
    "import pandas as pd\n",
    "import random\n",
    "\n",
    "from ELEP.elep.ensemble_learners import ensemble_regressor_cnn"
   ]
  },
  {
   "attachments": {},
   "cell_type": "markdown",
   "metadata": {},
   "source": [
    "#### 2. load data and prepare training data"
   ]
  },
  {
   "cell_type": "code",
   "execution_count": null,
   "metadata": {},
   "outputs": [],
   "source": [
    "# download files\n",
    "!wget https://github.com/congcy/ELEP/raw/main/docs/tutorials/data/events_metadata.csv\n",
    "!wget https://github.com/congcy/ELEP/raw/main/docs/tutorials/data/events_pretrain_predictions.npy\n",
    "\n",
    "# load metadata\n",
    "csv_reader = pd.read_csv('./events_metadata.csv')\n",
    "# csv_reader\n",
    "trace_name_list = csv_reader['trace_name'].values\n",
    "trace_stt_list = csv_reader['trace_start_time'].values\n",
    "tp_sample_list = csv_reader['trace_P_arrival_sample'].values\n",
    "ts_sample_list = csv_reader['trace_S_arrival_sample'].values\n",
    "\n",
    "# load pretrain predictions\n",
    "preds = np.load('./events_pretrain_predictions.npy') #[nphases, nmdls, nsamples, npts]\n",
    "pdata = np.transpose(preds, (2,0,1,3)) #[nsamples, nphases, nmdls, npts]"
   ]
  },
  {
   "cell_type": "code",
   "execution_count": 27,
   "metadata": {},
   "outputs": [],
   "source": [
    "# prepare data and labels\n",
    "[nsamples, nphases, nmdls, npts] = pdata.shape\n",
    "ntwin = 2000\n",
    "cdata = np.zeros([nsamples, 1, nmdls, ntwin]) # Put P&S together, [N,C,H,W]\n",
    "clabels = np.zeros([nsamples, 1]) # labels\n",
    "it_labels = np.zeros([nsamples, ], dtype=int)\n",
    "for isamp in range(nsamples):\n",
    "    # extract manual/labled picks\n",
    "    itp, its = tp_sample_list[isamp], ts_sample_list[isamp]\n",
    "    # cut and write data\n",
    "    itind = random.randint(100, 1900)\n",
    "    if itp-itind+ntwin >= npts:\n",
    "        itind = itp+ntwin-npts\n",
    "    if itp-itind < 0:\n",
    "        itind = itp\n",
    "    cdata[isamp] = pdata[isamp,0:1,:,itp-itind:itp-itind+ntwin]\n",
    "\n",
    "    it_labels[isamp] = itind\n",
    "    # make label between 0 and 1\n",
    "    clabels[isamp] = itind/ntwin\n",
    "\n",
    "# remove variable\n",
    "del preds, pdata"
   ]
  },
  {
   "cell_type": "code",
   "execution_count": 28,
   "metadata": {},
   "outputs": [
    {
     "name": "stdout",
     "output_type": "stream",
     "text": [
      "(100, 1, 6, 2000) (100, 1)\n"
     ]
    }
   ],
   "source": [
    "# split data to training and validation datasets\n",
    "split_rate = 1.0\n",
    "nsplit = int(split_rate*nsamples)\n",
    "cdata_train = torch.Tensor(cdata[:nsplit])\n",
    "cdata_test = torch.Tensor(cdata[nsplit:])\n",
    "\n",
    "clabels_train = torch.Tensor(clabels[:nsplit])\n",
    "clabels_test = torch.Tensor(clabels[nsplit:])\n",
    "\n",
    "it_labels_train = it_labels[:nsplit]\n",
    "it_labels_test = it_labels[nsplit:]\n",
    "\n",
    "print(cdata.shape, clabels.shape)"
   ]
  },
  {
   "attachments": {},
   "cell_type": "markdown",
   "metadata": {},
   "source": [
    "#### 3.1 setup training parameters"
   ]
  },
  {
   "cell_type": "code",
   "execution_count": 30,
   "metadata": {},
   "outputs": [],
   "source": [
    "optimizer = 'Adam'\n",
    "lr = 1e-2\n",
    "epochs = 20\n",
    "CUDA = False\n",
    "batch_size=500\n",
    "batch_size2=500\n",
    "shuffle = False # enforce to False\n",
    "# prepare dataloader\n",
    "train_load=torch.utils.data.DataLoader(dataset=cdata_train, batch_size=batch_size, shuffle=shuffle)\n",
    "#test_load=torch.utils.data.DataLoader(dataset=cdata_test, batch_size=batch_size2, shuffle=shuffle)\n",
    "# load model \n",
    "model=ensemble_regressor_cnn()\n",
    "if CUDA:\n",
    "    model=model.cuda()\n",
    "# define a loss function\n",
    "loss_function = torch.nn.MSELoss()\n",
    "# select optimizer\n",
    "if optimizer == 'Adam':\n",
    "    optimizer = torch.optim.Adam(model.parameters(), lr=lr)\n",
    "elif optimizer == 'SGD':\n",
    "    optimizer=torch.optim.SGD(model.parameters(), lr=lr)\n",
    "else:\n",
    "    optimizer = []"
   ]
  },
  {
   "cell_type": "code",
   "execution_count": 31,
   "metadata": {},
   "outputs": [],
   "source": [
    "# define test function\n",
    "def test_fn(dataloader):\n",
    "    num_batches = len(dataloader)\n",
    "    test_loss = 0\n",
    "\n",
    "    with torch.no_grad():\n",
    "        for i, batch in enumerate(dataloader):\n",
    "            # get labels\n",
    "            labels = torch.Tensor(clabels_test[i*batch_size2:(i+1)*batch_size2])\n",
    "            if CUDA:\n",
    "                batch =Variable(batch.cuda())\n",
    "                labels =Variable(labels.cuda())\n",
    "            else:\n",
    "                batch =Variable(batch)\n",
    "                labels =Variable(labels)\n",
    "\n",
    "            pred = model(batch)\n",
    "            test_loss += loss_function(pred, labels).item()\n",
    "\n",
    "    test_loss /= num_batches\n",
    "    print(f\"Test avg loss: {test_loss:>8f} \\n\")\n",
    "    return test_loss "
   ]
  },
  {
   "attachments": {},
   "cell_type": "markdown",
   "metadata": {},
   "source": [
    "### 3.2 start training"
   ]
  },
  {
   "cell_type": "code",
   "execution_count": 32,
   "metadata": {},
   "outputs": [
    {
     "name": "stdout",
     "output_type": "stream",
     "text": [
      "Epoch 1\n",
      "-------------------------------\n",
      "loss: 0.057483  [    0/  100]\n",
      "Epoch 2\n",
      "-------------------------------\n",
      "loss: 0.006338  [    0/  100]\n",
      "Epoch 3\n",
      "-------------------------------\n",
      "loss: 0.016815  [    0/  100]\n",
      "Epoch 4\n",
      "-------------------------------\n",
      "loss: 0.007221  [    0/  100]\n",
      "Epoch 5\n",
      "-------------------------------\n",
      "loss: 0.006377  [    0/  100]\n",
      "Epoch 6\n",
      "-------------------------------\n",
      "loss: 0.003782  [    0/  100]\n",
      "Epoch 7\n",
      "-------------------------------\n",
      "loss: 0.002413  [    0/  100]\n",
      "Epoch 8\n",
      "-------------------------------\n",
      "loss: 0.002146  [    0/  100]\n",
      "Epoch 9\n",
      "-------------------------------\n",
      "loss: 0.002483  [    0/  100]\n",
      "Epoch 10\n",
      "-------------------------------\n",
      "loss: 0.002759  [    0/  100]\n",
      "Epoch 11\n",
      "-------------------------------\n",
      "loss: 0.002561  [    0/  100]\n",
      "Epoch 12\n",
      "-------------------------------\n",
      "loss: 0.002022  [    0/  100]\n",
      "Epoch 13\n",
      "-------------------------------\n",
      "loss: 0.001482  [    0/  100]\n",
      "Epoch 14\n",
      "-------------------------------\n",
      "loss: 0.001140  [    0/  100]\n",
      "Epoch 15\n",
      "-------------------------------\n",
      "loss: 0.000997  [    0/  100]\n",
      "Epoch 16\n",
      "-------------------------------\n",
      "loss: 0.000960  [    0/  100]\n",
      "Epoch 17\n",
      "-------------------------------\n",
      "loss: 0.000953  [    0/  100]\n",
      "Epoch 18\n",
      "-------------------------------\n",
      "loss: 0.000926  [    0/  100]\n",
      "Epoch 19\n",
      "-------------------------------\n",
      "loss: 0.000847  [    0/  100]\n",
      "Epoch 20\n",
      "-------------------------------\n",
      "loss: 0.000712  [    0/  100]\n",
      "Finished!\n"
     ]
    }
   ],
   "source": [
    "# initializing loss\n",
    "loss_arr = np.zeros([epochs, 2])\n",
    "# training\n",
    "for epoch in range(epochs):\n",
    "    print(f\"Epoch {epoch+1}\\n-------------------------------\")\n",
    "    # train\n",
    "    for i, batch in enumerate(train_load):\n",
    "        # get labels\n",
    "        labels = torch.Tensor(clabels_train[i*batch_size:(i+1)*batch_size])\n",
    "\n",
    "        if CUDA:\n",
    "            batch =Variable(batch.cuda())\n",
    "            labels =Variable(labels.cuda())\n",
    "        else:\n",
    "            batch =Variable(batch)\n",
    "            labels =Variable(labels)\n",
    "            \n",
    "        optimizer.zero_grad()\n",
    "        outputs=model(batch)\n",
    "        loss=loss_function(outputs,labels)\n",
    "        loss.backward()\n",
    "        optimizer.step()\n",
    "\n",
    "        if i % 5 == 0:\n",
    "            loss, current = loss.item(), i * batch.shape[0]\n",
    "            print(f\"loss: {loss:>7f}  [{current:>5d}/{nsamples:>5d}]\")\n",
    "\n",
    "            # loss on test dataset\n",
    "            # test_loss = test_fn(test_load)\n",
    "\n",
    "    # test\n",
    "    loss_arr[epoch,0] = loss\n",
    "    #loss_arr[epoch,1] = test_loss\n",
    "print(\"Finished!\")"
   ]
  },
  {
   "attachments": {},
   "cell_type": "markdown",
   "metadata": {},
   "source": [
    "#### 3.3 save data"
   ]
  },
  {
   "cell_type": "code",
   "execution_count": null,
   "metadata": {},
   "outputs": [],
   "source": [
    "torch.save(model, './ensemble_regressor_cnn.pt')"
   ]
  }
 ],
 "metadata": {
  "kernelspec": {
   "display_name": "ELEP",
   "language": "python",
   "name": "python3"
  },
  "language_info": {
   "codemirror_mode": {
    "name": "ipython",
    "version": 3
   },
   "file_extension": ".py",
   "mimetype": "text/x-python",
   "name": "python",
   "nbconvert_exporter": "python",
   "pygments_lexer": "ipython3",
   "version": "3.10.10"
  },
  "orig_nbformat": 4
 },
 "nbformat": 4,
 "nbformat_minor": 2
}
